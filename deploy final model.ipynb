{
 "cells": [
  {
   "cell_type": "code",
   "execution_count": 1,
   "id": "ea56b0af",
   "metadata": {
    "ExecuteTime": {
     "end_time": "2022-03-14T10:38:12.636106Z",
     "start_time": "2022-03-14T10:38:09.760529Z"
    }
   },
   "outputs": [],
   "source": [
    "import pandas as pd \n",
    "import numpy as np\n",
    "from sklearn import metrics\n",
    "import matplotlib.pylab as plt"
   ]
  },
  {
   "cell_type": "code",
   "execution_count": 2,
   "id": "62b7ca0f",
   "metadata": {
    "ExecuteTime": {
     "end_time": "2022-03-14T10:38:12.752654Z",
     "start_time": "2022-03-14T10:38:12.640854Z"
    }
   },
   "outputs": [],
   "source": [
    "df=pd.read_csv('C:/Users/ACER\\/Desktop//ty/clean_data.csv')"
   ]
  },
  {
   "cell_type": "code",
   "execution_count": 3,
   "id": "113516e0",
   "metadata": {
    "ExecuteTime": {
     "end_time": "2022-03-14T10:38:12.792559Z",
     "start_time": "2022-03-14T10:38:12.754687Z"
    }
   },
   "outputs": [
    {
     "data": {
      "text/html": [
       "<div>\n",
       "<style scoped>\n",
       "    .dataframe tbody tr th:only-of-type {\n",
       "        vertical-align: middle;\n",
       "    }\n",
       "\n",
       "    .dataframe tbody tr th {\n",
       "        vertical-align: top;\n",
       "    }\n",
       "\n",
       "    .dataframe thead th {\n",
       "        text-align: right;\n",
       "    }\n",
       "</style>\n",
       "<table border=\"1\" class=\"dataframe\">\n",
       "  <thead>\n",
       "    <tr style=\"text-align: right;\">\n",
       "      <th></th>\n",
       "      <th>Unnamed: 0</th>\n",
       "      <th>temperature</th>\n",
       "      <th>exhaust_vacuum</th>\n",
       "      <th>amb_pressure</th>\n",
       "      <th>r_humidity</th>\n",
       "      <th>energy_production</th>\n",
       "    </tr>\n",
       "  </thead>\n",
       "  <tbody>\n",
       "    <tr>\n",
       "      <th>9563</th>\n",
       "      <td>9563</td>\n",
       "      <td>17.10</td>\n",
       "      <td>49.69</td>\n",
       "      <td>1005.53</td>\n",
       "      <td>81.82</td>\n",
       "      <td>457.32</td>\n",
       "    </tr>\n",
       "    <tr>\n",
       "      <th>9564</th>\n",
       "      <td>9564</td>\n",
       "      <td>24.73</td>\n",
       "      <td>65.34</td>\n",
       "      <td>1015.42</td>\n",
       "      <td>52.80</td>\n",
       "      <td>446.92</td>\n",
       "    </tr>\n",
       "    <tr>\n",
       "      <th>9565</th>\n",
       "      <td>9565</td>\n",
       "      <td>30.44</td>\n",
       "      <td>56.24</td>\n",
       "      <td>1005.19</td>\n",
       "      <td>56.24</td>\n",
       "      <td>429.34</td>\n",
       "    </tr>\n",
       "    <tr>\n",
       "      <th>9566</th>\n",
       "      <td>9566</td>\n",
       "      <td>23.00</td>\n",
       "      <td>66.05</td>\n",
       "      <td>1020.61</td>\n",
       "      <td>80.29</td>\n",
       "      <td>421.57</td>\n",
       "    </tr>\n",
       "    <tr>\n",
       "      <th>9567</th>\n",
       "      <td>9567</td>\n",
       "      <td>17.75</td>\n",
       "      <td>49.25</td>\n",
       "      <td>1020.86</td>\n",
       "      <td>63.67</td>\n",
       "      <td>454.41</td>\n",
       "    </tr>\n",
       "  </tbody>\n",
       "</table>\n",
       "</div>"
      ],
      "text/plain": [
       "      Unnamed: 0  temperature  exhaust_vacuum  amb_pressure  r_humidity  \\\n",
       "9563        9563        17.10           49.69       1005.53       81.82   \n",
       "9564        9564        24.73           65.34       1015.42       52.80   \n",
       "9565        9565        30.44           56.24       1005.19       56.24   \n",
       "9566        9566        23.00           66.05       1020.61       80.29   \n",
       "9567        9567        17.75           49.25       1020.86       63.67   \n",
       "\n",
       "      energy_production  \n",
       "9563             457.32  \n",
       "9564             446.92  \n",
       "9565             429.34  \n",
       "9566             421.57  \n",
       "9567             454.41  "
      ]
     },
     "execution_count": 3,
     "metadata": {},
     "output_type": "execute_result"
    }
   ],
   "source": [
    "df.tail()"
   ]
  },
  {
   "cell_type": "code",
   "execution_count": 4,
   "id": "8ab3ee6f",
   "metadata": {
    "ExecuteTime": {
     "end_time": "2022-03-14T10:38:12.818934Z",
     "start_time": "2022-03-14T10:38:12.798087Z"
    }
   },
   "outputs": [
    {
     "data": {
      "text/plain": [
       "0       481.30\n",
       "1       465.36\n",
       "2       465.48\n",
       "3       467.05\n",
       "4       463.58\n",
       "         ...  \n",
       "9563    457.32\n",
       "9564    446.92\n",
       "9565    429.34\n",
       "9566    421.57\n",
       "9567    454.41\n",
       "Name: energy_production, Length: 9568, dtype: float64"
      ]
     },
     "execution_count": 4,
     "metadata": {},
     "output_type": "execute_result"
    }
   ],
   "source": [
    "x=df.iloc[:,1:5]\n",
    "y=df['energy_production']\n",
    "y\n"
   ]
  },
  {
   "cell_type": "code",
   "execution_count": 5,
   "id": "9687dd6e",
   "metadata": {
    "ExecuteTime": {
     "end_time": "2022-03-14T10:38:12.841859Z",
     "start_time": "2022-03-14T10:38:12.822755Z"
    }
   },
   "outputs": [],
   "source": [
    "from sklearn import preprocessing\n",
    "normalized_X = preprocessing.normalize(x)"
   ]
  },
  {
   "cell_type": "code",
   "execution_count": 6,
   "id": "0bbbd923",
   "metadata": {
    "ExecuteTime": {
     "end_time": "2022-03-14T10:38:12.893005Z",
     "start_time": "2022-03-14T10:38:12.847341Z"
    }
   },
   "outputs": [],
   "source": [
    "from sklearn.model_selection import train_test_split\n",
    "x_train, x_test, y_train, y_test = train_test_split(normalized_X, y, test_size=0.30, random_state=31)"
   ]
  },
  {
   "cell_type": "code",
   "execution_count": 7,
   "id": "a804e0bb",
   "metadata": {
    "ExecuteTime": {
     "end_time": "2022-03-14T10:38:14.635286Z",
     "start_time": "2022-03-14T10:38:12.898831Z"
    }
   },
   "outputs": [
    {
     "data": {
      "text/plain": [
       "RandomForestRegressor(min_samples_leaf=28, min_samples_split=20,\n",
       "                      n_estimators=102)"
      ]
     },
     "execution_count": 7,
     "metadata": {},
     "output_type": "execute_result"
    }
   ],
   "source": [
    "from sklearn.ensemble import RandomForestRegressor\n",
    "r_f= RandomForestRegressor(n_estimators=102,\n",
    "    min_samples_split=20,\n",
    "    min_samples_leaf=28,\n",
    "    max_features='auto')\n",
    "r_f.fit(x_train, y_train)"
   ]
  },
  {
   "cell_type": "code",
   "execution_count": 8,
   "id": "baaba01c",
   "metadata": {
    "ExecuteTime": {
     "end_time": "2022-03-14T10:38:14.708899Z",
     "start_time": "2022-03-14T10:38:14.638294Z"
    }
   },
   "outputs": [
    {
     "data": {
      "text/plain": [
       "array([471.05547082, 434.13326846, 446.0983673 , ..., 438.80216099,\n",
       "       466.9189869 , 467.69577608])"
      ]
     },
     "execution_count": 8,
     "metadata": {},
     "output_type": "execute_result"
    }
   ],
   "source": [
    "y_pred = r_f.predict(x_test)\n",
    "y_pred"
   ]
  },
  {
   "cell_type": "code",
   "execution_count": 9,
   "id": "ff13bc2b",
   "metadata": {
    "ExecuteTime": {
     "end_time": "2022-03-14T10:38:14.825425Z",
     "start_time": "2022-03-14T10:38:14.714364Z"
    }
   },
   "outputs": [
    {
     "name": "stdout",
     "output_type": "stream",
     "text": [
      "Root Mean Squared Error: 3.9571233332580844\n"
     ]
    }
   ],
   "source": [
    "#making testing predictions\n",
    "pred_test = r_f.predict(x_test)\n",
    "print('Root Mean Squared Error:', np.sqrt(metrics.mean_squared_error(y_test, pred_test)))"
   ]
  },
  {
   "cell_type": "code",
   "execution_count": 10,
   "id": "74f2e166",
   "metadata": {
    "ExecuteTime": {
     "end_time": "2022-03-14T10:38:14.942102Z",
     "start_time": "2022-03-14T10:38:14.832374Z"
    }
   },
   "outputs": [
    {
     "name": "stdout",
     "output_type": "stream",
     "text": [
      "Root Mean Squared Error: 3.7955100603229335\n"
     ]
    }
   ],
   "source": [
    "#making trainingS predictions\n",
    "pred_train = r_f.predict(x_train)\n",
    "print('Root Mean Squared Error:', np.sqrt(metrics.mean_squared_error(y_train, pred_train)))"
   ]
  },
  {
   "cell_type": "code",
   "execution_count": 11,
   "id": "e010b27b",
   "metadata": {
    "ExecuteTime": {
     "end_time": "2022-03-14T10:38:14.981303Z",
     "start_time": "2022-03-14T10:38:14.948234Z"
    }
   },
   "outputs": [
    {
     "name": "stdout",
     "output_type": "stream",
     "text": [
      "R2 Score: 0.9460586100937876\n",
      "Mean Absolute Error: 3.0324849653783623\n",
      "Mean Squared Error: 15.658825074615573\n",
      "Root Mean Squared Error: 3.9571233332580844\n"
     ]
    }
   ],
   "source": [
    "print('R2 Score:', metrics.r2_score(y_test, pred_test))  \n",
    "print('Mean Absolute Error:', metrics.mean_absolute_error(y_test, pred_test))  \n",
    "print('Mean Squared Error:', metrics.mean_squared_error(y_test, pred_test))  \n",
    "print('Root Mean Squared Error:', np.sqrt(metrics.mean_squared_error(y_test, pred_test)))"
   ]
  },
  {
   "cell_type": "code",
   "execution_count": 12,
   "id": "220257d1",
   "metadata": {
    "ExecuteTime": {
     "end_time": "2022-03-14T10:38:15.528901Z",
     "start_time": "2022-03-14T10:38:14.988611Z"
    }
   },
   "outputs": [
    {
     "data": {
      "text/plain": [
       "Text(0, 0.5, 'Predictions')"
      ]
     },
     "execution_count": 12,
     "metadata": {},
     "output_type": "execute_result"
    },
    {
     "data": {
      "image/png": "[encoded data removed]",
      "text/plain": [
       "<Figure size 432x288 with 1 Axes>"
      ]
     },
     "metadata": {
      "needs_background": "light"
     },
     "output_type": "display_data"
    }
   ],
   "source": [
    "plt.scatter(y_test, pred_test)\n",
    "plt.xlabel(\"True Values\")\n",
    "plt.ylabel(\"Predictions\")"
   ]
  },
  {
   "cell_type": "code",
   "execution_count": 13,
   "id": "7c24ad1d",
   "metadata": {
    "ExecuteTime": {
     "end_time": "2022-03-14T10:38:15.601381Z",
     "start_time": "2022-03-14T10:38:15.534203Z"
    }
   },
   "outputs": [
    {
     "data": {
      "text/plain": [
       "array([432.6519605])"
      ]
     },
     "execution_count": 13,
     "metadata": {},
     "output_type": "execute_result"
    }
   ],
   "source": [
    "y_pred = r_f.predict([[15.14,49.64,1023.78,75]])\n",
    "y_pred"
   ]
  },
  {
   "cell_type": "code",
   "execution_count": null,
   "id": "8cc04982",
   "metadata": {},
   "outputs": [],
   "source": []
  }
 ],
 "metadata": {
  "kernelspec": {
   "display_name": "Python 3 (ipykernel)",
   "language": "python",
   "name": "python3"
  },
  "language_info": {
   "codemirror_mode": {
    "name": "ipython",
    "version": 3
   },
   "file_extension": ".py",
   "mimetype": "text/x-python",
   "name": "python",
   "nbconvert_exporter": "python",
   "pygments_lexer": "ipython3",
   "version": "3.9.7"
  }
 },
 "nbformat": 4,
 "nbformat_minor": 5
}
